{
  "cells": [
    {
      "cell_type": "markdown",
      "metadata": {
        "id": "0aStgWSO0E0E"
      },
      "source": [
        "# **Data Collection**"
      ]
    },
    {
      "cell_type": "markdown",
      "metadata": {
        "id": "1eLEkw5O0ECa"
      },
      "source": [
        "## Objectives\n",
        "\n",
        "* Fetch data from Kaggle for further processing\n",
        "\n",
        "## Inputs\n",
        "\n",
        "* Kaggle JSON file - the authentication token.\n",
        "\n",
        "## Outputs\n",
        "\n",
        "* Generate Dataset: inputs/datasets/brain_tumor_mri_dataset\n",
        "\n",
        "## Additional Comments\n",
        "\n",
        "* No comments \n"
      ]
    },
    {
      "cell_type": "markdown",
      "metadata": {
        "id": "9uWZXH9LwoQg"
      },
      "source": [
        "---"
      ]
    },
    {
      "cell_type": "markdown",
      "metadata": {
        "id": "cqP-UeN-z3i2"
      },
      "source": [
        "# Change working directory"
      ]
    },
    {
      "cell_type": "markdown",
      "metadata": {},
      "source": [
        "* The notebooks in a subfolder, therefore when running the notebook in the editor, we will need to change the working directory"
      ]
    },
    {
      "cell_type": "markdown",
      "metadata": {
        "id": "aOGIGS-uz3i2"
      },
      "source": [
        "We need to change the working directory from its current folder to its parent folder\n",
        "* We access the current directory with os.getcwd()"
      ]
    },
    {
      "cell_type": "code",
      "execution_count": null,
      "metadata": {
        "id": "wZfF_j-Bz3i4",
        "outputId": "66943449-1436-4c3d-85c7-b85f9f78349b"
      },
      "outputs": [],
      "source": [
        "import os\n",
        "current_dir = os.getcwd()\n",
        "current_dir"
      ]
    },
    {
      "cell_type": "markdown",
      "metadata": {
        "id": "9MWW8E7lz3i7"
      },
      "source": [
        "We want to make the parent of the current directory the new current directory\n",
        "* os.path.dirname() gets the parent directory\n",
        "* os.chir() defines the new current directory"
      ]
    },
    {
      "cell_type": "code",
      "execution_count": null,
      "metadata": {
        "id": "TwHsQRWjz3i9",
        "outputId": "86849db3-cd2f-4cc5-ebb8-2d0caafa1a2c"
      },
      "outputs": [],
      "source": [
        "os.chdir(os.path.dirname(current_dir))\n",
        "print(\"You set a new current directory\")"
      ]
    },
    {
      "cell_type": "markdown",
      "metadata": {
        "id": "M_xPk_Ijz3i-"
      },
      "source": [
        "Confirm the new current directory"
      ]
    },
    {
      "cell_type": "code",
      "execution_count": null,
      "metadata": {
        "id": "vz3S-_kjz3jA",
        "outputId": "00b79ae4-75d0-4a96-d193-ac9ef9847ea2"
      },
      "outputs": [],
      "source": [
        "current_dir = os.getcwd()\n",
        "current_dir"
      ]
    },
    {
      "cell_type": "markdown",
      "metadata": {
        "id": "-mavJ8DibrcQ"
      },
      "source": [
        "# Install The Kaggle"
      ]
    },
    {
      "cell_type": "code",
      "execution_count": null,
      "metadata": {},
      "outputs": [],
      "source": [
        "# installing kaggle packages\n",
        "!pip install kaggle"
      ]
    },
    {
      "cell_type": "markdown",
      "metadata": {
        "id": "ZY3l0-AxO93d"
      },
      "source": [
        "---"
      ]
    },
    {
      "cell_type": "markdown",
      "metadata": {},
      "source": [
        "Change the Kaggle configuration directory to the current working directory and set permissions for the Kaggle authentication JSON."
      ]
    },
    {
      "cell_type": "code",
      "execution_count": 9,
      "metadata": {},
      "outputs": [],
      "source": [
        "os.environ['KAGGLE_CONFIG_DIR'] = os.getcwd()\n",
        "! chmod 600 kaggle.json"
      ]
    },
    {
      "cell_type": "markdown",
      "metadata": {},
      "source": [
        "Set the Kaggle Dataset and Download it."
      ]
    },
    {
      "cell_type": "code",
      "execution_count": null,
      "metadata": {},
      "outputs": [],
      "source": [
        "KaggleDatasetPath = \"masoudnickparvar/brain-tumor-mri-dataset\"\n",
        "DestinationFolder = \"inputs/brain-tumor-mri-dataset\"\n",
        "! kaggle datasets download -d {KaggleDatasetPath} -p {DestinationFolder}"
      ]
    },
    {
      "cell_type": "code",
      "execution_count": 11,
      "metadata": {},
      "outputs": [],
      "source": [
        "import zipfile\n",
        "with zipfile.ZipFile(DestinationFolder + '/brain-tumor-mri-dataset.zip', 'r') as zip_ref:\n",
        "    zip_ref.extractall(DestinationFolder)\n",
        "\n",
        "os.remove(DestinationFolder + '/brain-tumor-mri-dataset.zip')"
      ]
    },
    {
      "cell_type": "markdown",
      "metadata": {},
      "source": [
        "# Data Preparation"
      ]
    },
    {
      "cell_type": "markdown",
      "metadata": {},
      "source": [
        "* combine the dataset and delete the old ones\n",
        "* Load Dataset\n",
        "* Resize the Images\n",
        "* Normalize the Pixel Values\n",
        "* Convert Image Modes\n",
        "* Split into Training and Testing Sets\n",
        "* Save Preprocessed Dataset"
      ]
    },
    {
      "cell_type": "code",
      "execution_count": null,
      "metadata": {},
      "outputs": [],
      "source": [
        "import os\n",
        "import shutil\n",
        "\n",
        "# Define the paths for the training and testing directories\n",
        "train_dir = 'inputs/brain-tumor-mri-dataset/Training'\n",
        "test_dir = 'inputs/brain-tumor-mri-dataset/Testing'\n",
        "combined_dir = 'inputs/brain-tumor-mri-dataset/mri-images'  # Combined directory name\n",
        "\n",
        "# Create the combined directory if it doesn't exist\n",
        "os.makedirs(combined_dir, exist_ok=True)\n",
        "\n",
        "# Define the categories\n",
        "categories = ['glioma', 'meningioma', 'notumor', 'pituitary']\n",
        "\n",
        "# Function to copy images from source to destination\n",
        "def copy_images(src_dir, dest_dir):\n",
        "    \"\"\"\n",
        "    Copy images from the source directory to the destination directory.\n",
        "\n",
        "    Parameters:\n",
        "    - src_dir: The source directory containing category subdirectories.\n",
        "    - dest_dir: The destination directory to copy images to.\n",
        "    \"\"\"\n",
        "    for category in categories:\n",
        "        src_category_dir = os.path.join(src_dir, category)\n",
        "        dest_category_dir = os.path.join(dest_dir, category)\n",
        "\n",
        "        # Create category directory in combined dataset\n",
        "        os.makedirs(dest_category_dir, exist_ok=True)\n",
        "\n",
        "        # Copy each image from the source category to the destination category\n",
        "        for img_file in os.listdir(src_category_dir):\n",
        "            if img_file.endswith(('jpg', 'jpeg', 'png')):\n",
        "                src_file_path = os.path.join(src_category_dir, img_file)\n",
        "                dest_file_path = os.path.join(dest_category_dir, img_file)\n",
        "                \n",
        "                shutil.copy(src_file_path, dest_file_path)\n",
        "                print(f\"Copied {src_file_path} to {dest_file_path}\")\n",
        "\n",
        "# Copy images from the Training directory\n",
        "copy_images(train_dir, combined_dir)\n",
        "\n",
        "# Copy images from the Testing directory\n",
        "copy_images(test_dir, combined_dir)\n",
        "\n",
        "print(\"Combining of datasets is complete.\")\n",
        "\n",
        "# Function to remove a directory and its contents\n",
        "def remove_directory(dir_path):\n",
        "    \"\"\"\n",
        "    Remove a directory and its contents.\n",
        "\n",
        "    Parameters:\n",
        "    - dir_path: The path of the directory to be removed.\n",
        "    \"\"\"\n",
        "    if os.path.exists(dir_path):\n",
        "        shutil.rmtree(dir_path)\n",
        "        print(f\"Removed directory: {dir_path}\")\n",
        "    else:\n",
        "        print(f\"Directory does not exist: {dir_path}\")\n",
        "\n",
        "# Remove the old training and testing directories\n",
        "remove_directory(train_dir)\n",
        "remove_directory(test_dir)\n",
        "\n",
        "print(\"Old training and testing data have been removed.\")\n"
      ]
    },
    {
      "cell_type": "code",
      "execution_count": null,
      "metadata": {},
      "outputs": [],
      "source": [
        "# Function to count and display the number of images in each category\n",
        "def count_images_in_combined_dataset(combined_dir):\n",
        "    \"\"\"\n",
        "    Count and display the number of images in each category of the combined dataset.\n",
        "\n",
        "    Parameters:\n",
        "    - combined_dir: The path to the combined dataset directory.\n",
        "    \"\"\"\n",
        "    for category in categories:\n",
        "        category_dir = os.path.join(combined_dir, category)\n",
        "        if os.path.exists(category_dir):\n",
        "            num_images = len([f for f in os.listdir(category_dir) if f.endswith(('jpg', 'jpeg', 'png'))])\n",
        "            print(f\"Number of images in {category}: {num_images}\")\n",
        "        else:\n",
        "            print(f\"{category} directory does not exist.\")\n",
        "\n",
        "count_images_in_combined_dataset(combined_dir)"
      ]
    },
    {
      "cell_type": "markdown",
      "metadata": {},
      "source": [
        "## Data cleaning"
      ]
    },
    {
      "cell_type": "code",
      "execution_count": 16,
      "metadata": {},
      "outputs": [],
      "source": [
        "def remove_non_image_files(my_data_dir):\n",
        "    \"\"\"\n",
        "    Remove non-image files from the specified directory and log the results.\n",
        "\n",
        "    Parameters:\n",
        "    - my_data_dir: The path to the directory containing subdirectories of images.\n",
        "    \"\"\"\n",
        "    image_extension = ('.png', '.jpg', '.gpeg')\n",
        "    folders = os.listdir(my_data_dir)\n",
        "    for folder in folders:\n",
        "        files = os.listdir(my_data_dir + \"/\" + folder)\n",
        "\n",
        "        i = []\n",
        "        j = []\n",
        "        for given_file in files:\n",
        "            if not given_file.lower().endswith(image_extension):\n",
        "                file_location = my_data_dir + '/' + folder + '/' + given_file\n",
        "                os.remove(file_location)\n",
        "                i.append(1)\n",
        "            else:\n",
        "                j.append(1)\n",
        "                pass\n",
        "        print(f\"Folder: {folder} - has image file\", len(j))\n",
        "        print(f\"Folder: {folder} - has non-image file\", len(i))"
      ]
    },
    {
      "cell_type": "code",
      "execution_count": 20,
      "metadata": {},
      "outputs": [
        {
          "name": "stdout",
          "output_type": "stream",
          "text": [
            "Folder: glioma - has image file 1621\n",
            "Folder: glioma - has non-image file 0\n",
            "Folder: meningioma - has image file 1645\n",
            "Folder: meningioma - has non-image file 0\n",
            "Folder: notumor - has image file 2000\n",
            "Folder: notumor - has non-image file 0\n",
            "Folder: pituitary - has image file 1757\n",
            "Folder: pituitary - has non-image file 0\n"
          ]
        }
      ],
      "source": [
        "remove_non_image_files(my_data_dir=\"inputs/brain-tumor-mri-dataset/mri-images\")"
      ]
    },
    {
      "cell_type": "markdown",
      "metadata": {},
      "source": [
        "## Split train validation test set"
      ]
    },
    {
      "cell_type": "code",
      "execution_count": 21,
      "metadata": {},
      "outputs": [],
      "source": [
        "import os\n",
        "import shutil\n",
        "import random\n",
        "import joblib\n",
        "\n",
        "\n",
        "def split_train_validation_test_images(my_data_dir, train_set_ratio, validation_set_ratio, test_set_ratio):\n",
        "    \"\"\"\n",
        "    Splits images into training, validation, and test sets.\n",
        "\n",
        "    Parameters:\n",
        "    - my_data_dir: Path to the directory containing subdirectories of labeled images.\n",
        "    - train_set_ratio: Ratio of images to be used for training.\n",
        "    - validation_set_ratio: Ratio of images to be used for validation.\n",
        "    - test_set_ratio: Ratio of images to be used for testing.\n",
        "    \"\"\"\n",
        "    if train_set_ratio + validation_set_ratio + test_set_ratio != 1.0:\n",
        "        print(\"train_set_ratio + validation_set_ratio + test_set_ratio should sum to 1.0\")\n",
        "        return\n",
        "\n",
        "    # gets classes labels\n",
        "    labels = os.listdir(my_data_dir)  # it should get only the folder name\n",
        "    if 'test' in labels:\n",
        "        pass\n",
        "    else:\n",
        "        # create train, test folders with classes labels sub-folder\n",
        "        for folder in ['train', 'validation', 'test']:\n",
        "            for label in labels:\n",
        "                os.makedirs(name=my_data_dir + '/' + folder + '/' + label)\n",
        "\n",
        "        for label in labels:\n",
        "\n",
        "            files = os.listdir(my_data_dir + '/' + label)\n",
        "            random.shuffle(files)\n",
        "\n",
        "            train_set_files_qty = int(len(files) * train_set_ratio)\n",
        "            validation_set_files_qty = int(len(files) * validation_set_ratio)\n",
        "\n",
        "            count = 1\n",
        "            for file_name in files:\n",
        "                if count <= train_set_files_qty:\n",
        "                    # move a given file to the train set\n",
        "                    shutil.move(my_data_dir + '/' + label + '/' + file_name,\n",
        "                                my_data_dir + '/train/' + label + '/' + file_name)\n",
        "\n",
        "                elif count <= (train_set_files_qty + validation_set_files_qty):\n",
        "                    # move a given file to the validation set\n",
        "                    shutil.move(my_data_dir + '/' + label + '/' + file_name,\n",
        "                                my_data_dir + '/validation/' + label + '/' + file_name)\n",
        "\n",
        "                else:\n",
        "                    # move given file to test set\n",
        "                    shutil.move(my_data_dir + '/' + label + '/' + file_name,\n",
        "                                my_data_dir + '/test/' + label + '/' + file_name)\n",
        "\n",
        "                count += 1\n",
        "\n",
        "            os.rmdir(my_data_dir + '/' + label)"
      ]
    },
    {
      "cell_type": "code",
      "execution_count": 22,
      "metadata": {},
      "outputs": [],
      "source": [
        "split_train_validation_test_images(my_data_dir=f\"inputs/brain-tumor-mri-dataset/mri-images\",\n",
        "                                   train_set_ratio=0.7,\n",
        "                                   validation_set_ratio=0.1,\n",
        "                                   test_set_ratio=0.2\n",
        "                                   )"
      ]
    }
  ],
  "metadata": {
    "accelerator": "GPU",
    "colab": {
      "name": "Data Practitioner Jupyter Notebook.ipynb",
      "provenance": [],
      "toc_visible": true
    },
    "kernelspec": {
      "display_name": "tumor-detector",
      "language": "python",
      "name": "python3"
    },
    "language_info": {
      "codemirror_mode": {
        "name": "ipython",
        "version": 3
      },
      "file_extension": ".py",
      "mimetype": "text/x-python",
      "name": "python",
      "nbconvert_exporter": "python",
      "pygments_lexer": "ipython3",
      "version": "3.12.6"
    },
    "orig_nbformat": 2
  },
  "nbformat": 4,
  "nbformat_minor": 2
}
